{
 "cells": [
  {
   "cell_type": "markdown",
   "metadata": {},
   "source": [
    "# **Save this file as studentid1_studentid2_lab2.ipynb**\n",
    "(Your student-id is the number shown on your student card.)\n",
    "\n",
    "E.g. if you work with 3 people, the notebook should be named:\n",
    "12301230_3434343_1238938934_lab2.ipynb.\n",
    "\n",
    "**This will be parsed by a regexp, so please double check your filename.**\n",
    "\n",
    "Before you turn this problem in, please make sure everything runs correctly. First, **restart the kernel** (in the menubar, select Kernel$\\rightarrow$Restart) and then **run all cells** (in the menubar, select Cell$\\rightarrow$Run All). Note, that **you are not allowed to use Google Colab**.\n",
    "\n",
    "**Make sure you fill in any place that says `YOUR CODE HERE` or \"YOUR ANSWER HERE\", as well as your names and email adresses below.**\n",
    "\n"
   ]
  },
  {
   "cell_type": "code",
   "execution_count": 1,
   "metadata": {},
   "outputs": [],
   "source": [
    "NAME = \"Stefan Reuther\"\n",
    "NAME2 = \"Wout Kooijman\"\n",
    "EMAIL = \"stefan.reuther@outlook.com\"\n",
    "EMAIL2 = \"wapkooijman@gmail.com\""
   ]
  },
  {
   "cell_type": "markdown",
   "metadata": {
    "deletable": false,
    "editable": false,
    "nbgrader": {
     "checksum": "f4a038bb9b524e62f6ec198362f51c9b",
     "grade": false,
     "grade_id": "cell-8d856208da5d0763",
     "locked": true,
     "schema_version": 1,
     "solution": false
    }
   },
   "source": [
    "# Lab 2: Classification\n",
    "\n",
    "### Machine Learning 1, November 2018\n",
    "\n",
    "Notes on implementation:\n",
    "\n",
    "* You should write your code and answers in this IPython Notebook: http://ipython.org/notebook.html. If you have problems, please contact your teaching assistant.\n",
    "* Please write your answers right below the questions.\n",
    "* Among the first lines of your notebook should be \"%pylab inline\". This imports all required modules, and your plots will appear inline.\n",
    "* Use the provided test cells to check if your answers are correct\n",
    "* **Make sure your output and plots are correct before handing in your assignment with Kernel -> Restart & Run All**\n",
    "\n",
    "* **If possible, all your implementations should be vectorized and rely on loops as little as possible. Therefore for some questions, we give you a maximum number of loops that are necessary for an efficient implementation. This number refers to the loops in this particular function and does not count the ones in functions that are called from the function. You should not go above this number for the maximum number of points.**\n",
    "\n",
    "$\\newcommand{\\bx}{\\mathbf{x}}$\n",
    "$\\newcommand{\\bw}{\\mathbf{w}}$\n",
    "$\\newcommand{\\bt}{\\mathbf{t}}$\n",
    "$\\newcommand{\\by}{\\mathbf{y}}$\n",
    "$\\newcommand{\\bm}{\\mathbf{m}}$\n",
    "$\\newcommand{\\bb}{\\mathbf{b}}$\n",
    "$\\newcommand{\\bS}{\\mathbf{S}}$\n",
    "$\\newcommand{\\ba}{\\mathbf{a}}$\n",
    "$\\newcommand{\\bz}{\\mathbf{z}}$\n",
    "$\\newcommand{\\bv}{\\mathbf{v}}$\n",
    "$\\newcommand{\\bq}{\\mathbf{q}}$\n",
    "$\\newcommand{\\bp}{\\mathbf{p}}$\n",
    "$\\newcommand{\\bh}{\\mathbf{h}}$\n",
    "$\\newcommand{\\bI}{\\mathbf{I}}$\n",
    "$\\newcommand{\\bX}{\\mathbf{X}}$\n",
    "$\\newcommand{\\bT}{\\mathbf{T}}$\n",
    "$\\newcommand{\\bPhi}{\\mathbf{\\Phi}}$\n",
    "$\\newcommand{\\bW}{\\mathbf{W}}$\n",
    "$\\newcommand{\\bV}{\\mathbf{V}}$"
   ]
  },
  {
   "cell_type": "code",
   "execution_count": 2,
   "metadata": {
    "deletable": false,
    "editable": false,
    "nbgrader": {
     "checksum": "e3d9c5a44d13bdc7545f1a15d6dc9c8c",
     "grade": false,
     "grade_id": "cell-422dbc02437671ac",
     "locked": true,
     "schema_version": 1,
     "solution": false
    }
   },
   "outputs": [
    {
     "name": "stdout",
     "output_type": "stream",
     "text": [
      "Populating the interactive namespace from numpy and matplotlib\n"
     ]
    }
   ],
   "source": [
    "%pylab inline\n",
    "plt.rcParams[\"figure.figsize\"] = [9,5]\n",
    "\n",
    "import time\n",
    "start = time.time()"
   ]
  },
  {
   "cell_type": "code",
   "execution_count": 3,
   "metadata": {
    "deletable": false,
    "editable": false,
    "nbgrader": {
     "checksum": "902185d2dda7e356189a57a09a637182",
     "grade": false,
     "grade_id": "cell-7f215df0e22ae748",
     "locked": true,
     "schema_version": 1,
     "solution": false
    }
   },
   "outputs": [],
   "source": [
    "# This cell makes sure that you have all the necessary libraries installed\n",
    "\n",
    "import sys\n",
    "import platform\n",
    "from importlib.util import find_spec, module_from_spec\n",
    "\n",
    "def check_newer_version(version_inst, version_nec):\n",
    "    version_inst_split = version_inst.split('.')\n",
    "    version_nec_split = version_nec.split('.')\n",
    "    for i in range(min(len(version_inst_split), len(version_nec_split))):\n",
    "        if int(version_nec_split[i]) > int(version_inst_split[i]):\n",
    "            return False\n",
    "        elif int(version_nec_split[i]) < int(version_inst_split[i]):\n",
    "            return True\n",
    "    return True\n",
    "        \n",
    "    \n",
    "module_list = [('jupyter', '1.0.0'), \n",
    "               ('matplotlib', '2.0.2'), \n",
    "               ('numpy', '1.13.1'), \n",
    "               ('python', '3.6.2'), \n",
    "               ('sklearn', '0.19.0'), \n",
    "               ('scipy', '0.19.1'), \n",
    "               ('nb_conda', '2.2.1')]\n",
    "\n",
    "packages_correct = True\n",
    "packages_errors = []\n",
    "\n",
    "for module_name, version in module_list:\n",
    "    if module_name == 'scikit-learn':\n",
    "        module_name = 'sklearn'\n",
    "    if module_name == 'pyyaml':\n",
    "        module_name = 'yaml'\n",
    "    if 'python' in module_name:\n",
    "        python_version = platform.python_version()\n",
    "        if not check_newer_version(python_version, version):\n",
    "            packages_correct = False\n",
    "            error = f'Update {module_name} to version {version}. Current version is {python_version}.'\n",
    "            packages_errors.append(error) \n",
    "            print(error)\n",
    "    else:\n",
    "        spec = find_spec(module_name)\n",
    "        if spec is None:\n",
    "            packages_correct = False\n",
    "            error = f'Install {module_name} with version {version} or newer, it is required for this assignment!'\n",
    "            packages_errors.append(error) \n",
    "            print(error)\n",
    "        else:\n",
    "            x =__import__(module_name)\n",
    "            if hasattr(x, '__version__') and not check_newer_version(x.__version__, version):\n",
    "                packages_correct = False\n",
    "                error = f'Update {module_name} to version {version}. Current version is {x.__version__}.'\n",
    "                packages_errors.append(error) \n",
    "                print(error)\n",
    "\n",
    "try:\n",
    "    from google.colab import drive\n",
    "    packages_correct = False\n",
    "    error = \"\"\"Please, don't use google colab!\n",
    "It will make it much more complicated for us to check your homework as it merges all the cells into one.\"\"\"\n",
    "    packages_errors.append(error) \n",
    "    print(error)\n",
    "except:\n",
    "    pass\n",
    "\n",
    "packages_errors = '\\n'.join(packages_errors)"
   ]
  },
  {
   "cell_type": "markdown",
   "metadata": {
    "deletable": false,
    "editable": false,
    "nbgrader": {
     "checksum": "17f77a32492fcf6ac989eab8a50e4dab",
     "grade": false,
     "grade_id": "cell-821f67d8cd14e4f7",
     "locked": true,
     "schema_version": 1,
     "solution": false
    }
   },
   "source": [
    "# Part 1. Multiclass logistic regression\n",
    "\n",
    "Scenario: you have a friend with one big problem: she's completely blind. You decided to help her: she has a special smartphone for blind people, and you are going to develop a mobile phone app that can do _machine vision_ using the mobile camera: converting a picture (from the camera) to the meaning of the image. You decide to start with an app that can read handwritten digits, i.e. convert an image of handwritten digits to text (e.g. it would enable her to read precious handwritten phone numbers).\n",
    "\n",
    "A key building block for such an app would be a function `predict_digit(x)` that returns the digit class of an image patch $\\bx$. Since hand-coding this function is highly non-trivial, you decide to solve this problem using machine learning, such that the internal parameters of this function are automatically learned using machine learning techniques.\n",
    "\n",
    "The dataset you're going to use for this is the MNIST handwritten digits dataset (`http://yann.lecun.com/exdb/mnist/`). You can download the data with scikit learn, and load it as follows:"
   ]
  },
  {
   "cell_type": "code",
   "execution_count": 4,
   "metadata": {
    "deletable": false,
    "editable": false,
    "nbgrader": {
     "checksum": "d31db37aebf93c82a9408cfa97b788d3",
     "grade": false,
     "grade_id": "cell-bcdbc957165abae7",
     "locked": true,
     "schema_version": 1,
     "solution": false
    }
   },
   "outputs": [],
   "source": [
    "from sklearn.datasets import fetch_mldata\n",
    "import os\n",
    "# Fetch the data\n",
    "try:\n",
    "    mnist = fetch_mldata('MNIST original', data_home='.')\n",
    "except Exception:\n",
    "    raise FileNotFoundError('Please download mnist-original.mat from Canvas and put it in %s/mldata' % os.getcwd())\n",
    "data, target = mnist.data, mnist.target.astype('int')\n",
    "# Shuffle\n",
    "indices = np.arange(len(data))\n",
    "np.random.seed(123)\n",
    "np.random.shuffle(indices)\n",
    "data, target = data[indices].astype('float32'), target[indices]\n",
    "\n",
    "# Normalize the data between 0.0 and 1.0:\n",
    "data /= 255. \n",
    "\n",
    "# Split\n",
    "x_train, x_valid, x_test = data[:50000], data[50000:60000], data[60000: 70000]\n",
    "t_train, t_valid, t_test = target[:50000], target[50000:60000], target[60000: 70000]"
   ]
  },
  {
   "cell_type": "markdown",
   "metadata": {
    "deletable": false,
    "editable": false,
    "nbgrader": {
     "checksum": "5b20138af0810741223d2c2ddc82bf0f",
     "grade": false,
     "grade_id": "cell-b7b4a5a96dccf229",
     "locked": true,
     "schema_version": 1,
     "solution": false
    }
   },
   "source": [
    "MNIST consists of small 28 by 28 pixel images of written digits (0-9). We split the dataset into a training, validation and testing arrays. The variables `x_train`, `x_valid` and `x_test` are $N \\times M$ matrices, where $N$ is the number of datapoints in the respective set, and $M = 28^2 = 784$ is the dimensionality of the data. The second set of variables `t_train`, `t_valid` and `t_test` contain the corresponding $N$-dimensional vector of integers, containing the true class labels.\n",
    "\n",
    "Here's a visualisation of the first 8 digits of the trainingset:"
   ]
  },
  {
   "cell_type": "code",
   "execution_count": 5,
   "metadata": {
    "deletable": false,
    "editable": false,
    "nbgrader": {
     "checksum": "40e1628ec56b6d664edf9aaf496ea637",
     "grade": false,
     "grade_id": "cell-48a92c0a2a2bf4dd",
     "locked": true,
     "schema_version": 1,
     "solution": false
    }
   },
   "outputs": [
    {
     "data": {
      "image/png": "[encoded data removed]",
      "text/plain": [
       "<Figure size 432x288 with 16 Axes>"
      ]
     },
     "metadata": {
      "needs_background": "light"
     },
     "output_type": "display_data"
    }
   ],
   "source": [
    "def plot_digits(data, num_cols, targets=None, shape=(28,28)):\n",
    "    num_digits = data.shape[0]\n",
    "    num_rows = int(num_digits/num_cols)\n",
    "    for i in range(num_digits):\n",
    "        plt.subplot(num_rows, num_cols, i+1)\n",
    "        plt.imshow(data[i].reshape(shape), interpolation='none', cmap='Greys')\n",
    "        if targets is not None:\n",
    "            plt.title(int(targets[i]))\n",
    "        plt.colorbar()\n",
    "        plt.axis('off')\n",
    "    plt.tight_layout()\n",
    "    plt.show()\n",
    "    \n",
    "plot_digits(x_train[0:40000:5000], num_cols=4, targets=t_train[0:40000:5000])"
   ]
  },
  {
   "cell_type": "markdown",
   "metadata": {
    "deletable": false,
    "editable": false,
    "nbgrader": {
     "checksum": "9c7e0668b7e246603c3c12d9183c9a83",
     "grade": false,
     "grade_id": "cell-3eb664a58e03bf42",
     "locked": true,
     "schema_version": 1,
     "solution": false
    }
   },
   "source": [
    "In _multiclass_ logistic regression, the conditional probability of class label $j$ given the image $\\bx$ for some datapoint is given by:\n",
    "\n",
    "$ \\log p(t = j \\;|\\; \\bx, \\bb, \\bW) = \\log q_j - \\log Z$\n",
    "\n",
    "where $\\log q_j = \\bw_j^T \\bx + b_j$ (the log of the unnormalized probability of the class $j$), and $Z = \\sum_k q_k$ is the normalizing factor. $\\bw_j$ is the $j$-th column of $\\bW$ (a matrix of size $784 \\times 10$) corresponding to the class label, $b_j$ is the $j$-th element of $\\bb$.\n",
    "\n",
    "Given an input image, the multiclass logistic regression model first computes the intermediate vector $\\log \\bq$ (of size $10 \\times 1$), using $\\log q_j = \\bw_j^T \\bx + b_j$, containing the unnormalized log-probabilities per class. \n",
    "\n",
    "The unnormalized probabilities are then normalized by $Z$ such that $\\sum_j p_j = \\sum_j \\exp(\\log p_j) = 1$. This is done by $\\log p_j = \\log q_j - \\log Z$ where $Z = \\sum_i \\exp(\\log q_i)$. This is known as the _softmax_ transformation, and is also used as a last layer of many classifcation neural network models, to ensure that the output of the network is a normalized distribution, regardless of the values of second-to-last layer ($\\log \\bq$)\n",
    "\n",
    "**Warning**: when computing $\\log Z$, you are likely to encounter numerical problems. Save yourself countless hours of debugging and learn the [log-sum-exp trick](https://www.xarg.org/2016/06/the-log-sum-exp-trick-in-machine-learning/ \"Title\").\n",
    "\n",
    "The network's output $\\log \\bp$ of size $10 \\times 1$ then contains the conditional log-probabilities $\\log p(t = j \\;|\\; \\bx, \\bb, \\bW)$ for each digit class $j$. In summary, the computations are done in this order:\n",
    "\n",
    "$\\bx \\rightarrow \\log \\bq \\rightarrow Z \\rightarrow \\log \\bp$\n",
    "\n",
    "Given some dataset with $N$ independent, identically distributed datapoints, the log-likelihood is given by:\n",
    "\n",
    "$ \\mathcal{L}(\\bb, \\bW) = \\sum_{n=1}^N \\mathcal{L}^{(n)}$\n",
    "\n",
    "where we use $\\mathcal{L}^{(n)}$ to denote the partial log-likelihood evaluated over a single datapoint. It is important to see that the log-probability of the class label $t^{(n)}$ given the image, is given by the $t^{(n)}$-th element of the network's output $\\log \\bp$, denoted by $\\log p_{t^{(n)}}$:\n",
    "\n",
    "$\\mathcal{L}^{(n)} = \\log p(t = t^{(n)} \\;|\\; \\bx = \\bx^{(n)}, \\bb, \\bW) = \\log p_{t^{(n)}} = \\log q_{t^{(n)}} - \\log Z^{(n)}$\n",
    "\n",
    "where $\\bx^{(n)}$ and $t^{(n)}$ are the input (image) and class label (integer) of the $n$-th datapoint, and $Z^{(n)}$ is the normalizing constant for the distribution over $t^{(n)}$.\n"
   ]
  },
  {
   "cell_type": "markdown",
   "metadata": {
    "deletable": false,
    "editable": false,
    "nbgrader": {
     "checksum": "4e7f3f70641be7c1154d9ca2f83afa42",
     "grade": false,
     "grade_id": "cell-17766ee789f11384",
     "locked": true,
     "schema_version": 1,
     "solution": false
    }
   },
   "source": [
    "## 1.1 Gradient-based stochastic optimization\n",
    "### 1.1.1 Derive gradient equations (20 points)\n",
    "\n",
    "Derive the equations for computing the (first) partial derivatives of the log-likelihood w.r.t. all the parameters, evaluated at a _single_ datapoint $n$.\n",
    "\n",
    "You should start deriving the equations for $\\frac{\\partial \\mathcal{L}^{(n)}}{\\partial \\log q_j}$ for each $j$. For clarity, we'll use the shorthand $\\delta^q_j = \\frac{\\partial \\mathcal{L}^{(n)}}{\\partial \\log q_j}$.\n",
    "\n",
    "For $j = t^{(n)}$:\n",
    "$$\n",
    "\\delta^q_j\n",
    "= \\frac{\\partial \\mathcal{L}^{(n)}}{\\partial \\log p_j}\n",
    "\\frac{\\partial \\log p_j}{\\partial \\log q_j}\n",
    "+ \\frac{\\partial \\mathcal{L}^{(n)}}{\\partial \\log Z}\n",
    "\\frac{\\partial \\log Z}{\\partial Z} \n",
    "\\frac{\\partial Z}{\\partial \\log q_j} \n",
    "= \\frac{\\partial \\mathcal\\log q_j}{\\partial \\log q_j}\n",
    "-\n",
    "\\frac{\\partial \\log Z}{\\partial Z} \n",
    "\\frac{\\partial Z}{\\partial \\log q_j} \n",
    "= 1  - \\frac{\\partial \\log Z}{\\partial Z} \n",
    "\\frac{\\partial Z}{\\partial \\log q_j}\n",
    "$$\n",
    "\n",
    "For $j \\neq t^{(n)}$:\n",
    "$$\n",
    "\\delta^q_j\n",
    "= \\frac{\\partial \\mathcal{L}^{(n)}}{\\partial \\log Z}\n",
    "\\frac{\\partial \\log Z}{\\partial Z} \n",
    "\\frac{\\partial Z}{\\partial \\log q_j} \n",
    "= - \\frac{\\partial \\log Z}{\\partial Z} \n",
    "\\frac{\\partial Z}{\\partial \\log q_j}\n",
    "$$\n",
    "\n",
    "Complete the above derivations for $\\delta^q_j$ by furtherly developing $\\frac{\\partial \\log Z}{\\partial Z}$ and $\\frac{\\partial Z}{\\partial \\log q_j}$. Both are quite simple. For these it doesn't matter whether $j = t^{(n)}$ or not.\n",
    "\n"
   ]
  },
  {
   "cell_type": "markdown",
   "metadata": {
    "deletable": false,
    "nbgrader": {
     "checksum": "f394ea0423ed2b17c80bbe8f1193cc81",
     "grade": true,
     "grade_id": "cell-e40110444a1e1d3f",
     "locked": false,
     "points": 10,
     "schema_version": 1,
     "solution": true
    }
   },
   "source": [
    "For $j = t^{(n)}$:\n",
    "\\begin{align}\n",
    "\\delta^q_j\n",
    "&= 1- \\frac{\\partial log z}{\\partial z} \\frac{\\partial z}{\\partial log q_j} \n",
    "= 1 - \\frac{1}{Z} \\frac{\\partial Z}{\\partial u_i} \\frac{\\partial u_i}{\\partial log q_j}\n",
    "= 1 - \\frac{1}{Z} \\frac{\\sum_i exp(log u_i)}{\\partial u_j} * 1\n",
    "= 1 - \\frac{exp(log q_j)}{\\sum_i exp(log q_i)}\n",
    "\\end{align}\n",
    "For $j \\neq t^{(n)}$:\n",
    "\\begin{align}\n",
    "\\delta^q_j\n",
    "&= - \\frac{exp(log q_j)}{\\sum_i exp(log q_i)}\n",
    "\\end{align}"
   ]
  },
  {
   "cell_type": "markdown",
   "metadata": {
    "deletable": false,
    "editable": false,
    "nbgrader": {
     "checksum": "d46c028e9830445397d7b2275815990d",
     "grade": false,
     "grade_id": "cell-c770cfe1389ca4ff",
     "locked": true,
     "schema_version": 1,
     "solution": false
    }
   },
   "source": [
    "Given your equations for computing the gradients $\\delta^q_j$ it should be quite straightforward to derive the equations for the gradients of the parameters of the model, $\\frac{\\partial \\mathcal{L}^{(n)}}{\\partial W_{ij}}$ and $\\frac{\\partial \\mathcal{L}^{(n)}}{\\partial b_j}$. The gradients for the biases $\\bb$ are given by:\n",
    "\n",
    "$\n",
    "\\frac{\\partial \\mathcal{L}^{(n)}}{\\partial b_j}\n",
    "= \\frac{\\partial \\mathcal{L}^{(n)}}{\\partial \\log q_j}\n",
    "\\frac{\\partial \\log q_j}{\\partial b_j}\n",
    "= \\delta^q_j\n",
    "\\cdot 1\n",
    "= \\delta^q_j\n",
    "$\n",
    "\n",
    "The equation above gives the derivative of $\\mathcal{L}^{(n)}$ w.r.t. a single element of $\\bb$, so the vector $\\nabla_\\bb \\mathcal{L}^{(n)}$ with all derivatives of $\\mathcal{L}^{(n)}$ w.r.t. the bias parameters $\\bb$ is: \n",
    "\n",
    "$\n",
    "\\nabla_\\bb \\mathcal{L}^{(n)} = \\mathbf{\\delta}^q\n",
    "$\n",
    "\n",
    "where $\\mathbf{\\delta}^q$ denotes the vector of size $10 \\times 1$ with elements $\\mathbf{\\delta}_j^q$.\n",
    "\n",
    "The (not fully developed) equation for computing the derivative of $\\mathcal{L}^{(n)}$ w.r.t. a single element $W_{ij}$ of $\\bW$ is:\n",
    "\n",
    "$\n",
    "\\frac{\\partial \\mathcal{L}^{(n)}}{\\partial W_{ij}} =\n",
    "\\frac{\\partial \\mathcal{L}^{(n)}}{\\partial \\log q_j}\n",
    "\\frac{\\partial \\log q_j}{\\partial W_{ij}}\n",
    "= \\mathbf{\\delta}_j^q\n",
    "\\frac{\\partial \\log q_j}{\\partial W_{ij}}\n",
    "$\n",
    "\n",
    "What is $\\frac{\\partial \\log q_j}{\\partial W_{ij}}$? Complete the equation above.\n",
    "\n",
    "If you want, you can give the resulting equation in vector format ($\\nabla_{\\bw_j} \\mathcal{L}^{(n)} = ...$), like we did for $\\nabla_\\bb \\mathcal{L}^{(n)}$."
   ]
  },
  {
   "cell_type": "markdown",
   "metadata": {
    "deletable": false,
    "nbgrader": {
     "checksum": "70fc98e5b227736e2bb92964a3c7174d",
     "grade": true,
     "grade_id": "cell-e40110444a1asdfasdfd3f",
     "locked": false,
     "points": 10,
     "schema_version": 1,
     "solution": true
    }
   },
   "source": [
    "$ \\frac{\\partial log q_j}{\\partial W_{ij}}$ where $log q_j = w_j^T x +b_j\n",
    "\\frac{\\partial log q_j}{\\partial W_{ij}} \n",
    "= \\frac{w_j^T x +b_j}{W_{ij}} = x_i $\n",
    "\n",
    "So \n",
    "\n",
    "$\\frac{\\partial \\mathcal{L}^{(n)}}{\\partial W_{ij}}\n",
    "= \\mathbf{\\delta}_j^q x_i $\n"
   ]
  },
  {
   "cell_type": "markdown",
   "metadata": {
    "deletable": false,
    "editable": false,
    "nbgrader": {
     "checksum": "7744e9051681182c7e1af0c515622fce",
     "grade": false,
     "grade_id": "cell-b0f28b0924b9983d",
     "locked": true,
     "schema_version": 1,
     "solution": false
    }
   },
   "source": [
    "### 1.1.2 Implement gradient computations (15 points)\n",
    "\n",
    "Implement the gradient calculations you derived in the previous question. Write a function `logreg_gradient(x, t, w, b)` that returns the gradients $\\nabla_{\\bw_j} \\mathcal{L}^{(n)}$ (for each $j$) and $\\nabla_{\\bb} \\mathcal{L}^{(n)}$, i.e. the first partial derivatives of the log-likelihood w.r.t. the parameters $\\bW$ and $\\bb$, evaluated at a single datapoint (`x`, `t`).\n",
    "The computation will contain roughly the following intermediate variables:\n",
    "\n",
    "$\n",
    "\\log \\bq \\rightarrow Z \\rightarrow \\log \\bp\\,,\\, \\mathbf{\\delta}^q\n",
    "$\n",
    "\n",
    "followed by computation of the gradient vectors $\\nabla_{\\bw_j} \\mathcal{L}^{(n)}$ (contained in a $784 \\times 10$ matrix) and $\\nabla_{\\bb} \\mathcal{L}^{(n)}$ (a $10 \\times 1$ vector).\n",
    "\n",
    "For maximum points, ensure the function is numerically stable.\n"
   ]
  },
  {
   "cell_type": "code",
   "execution_count": 6,
   "metadata": {
    "deletable": false,
    "nbgrader": {
     "checksum": "e0d41cbf33ddb93414c789220c024c45",
     "grade": false,
     "grade_id": "cell-6858f885be587480",
     "locked": false,
     "schema_version": 1,
     "solution": true
    }
   },
   "outputs": [],
   "source": [
    "# 1.1.2 Compute gradient of log p(t|x;w,b) wrt w and b\n",
    "def logreg_gradient(x, t, W, b):\n",
    "    \n",
    "    log_q = np.matmul(W.transpose(), x.flatten()) + b\n",
    "\n",
    "    # Computing log Z using the log-sum-exp trick\n",
    "    a = log_q.max()\n",
    "    log_Z = a + np.log(np.exp(log_q - a).sum())\n",
    "\n",
    "    log_p = log_q - log_Z\n",
    "\n",
    "    delta = - np.exp(log_q) / np.exp(log_q).sum()\n",
    "    delta[t] = 1 - np.exp(log_q[t]) / np.exp(log_q).sum()\n",
    "\n",
    "    dL_dw = delta * x.transpose()\n",
    "    dL_db = delta.transpose()\n",
    "\n",
    "    # here the statement contains logp[:,t] where logp is meant as a matrix of shape 1x10\n",
    "    return log_p[t].squeeze(), dL_dw, dL_db.squeeze()\n"
   ]
  },
  {
   "cell_type": "code",
   "execution_count": 7,
   "metadata": {
    "deletable": false,
    "editable": false,
    "nbgrader": {
     "checksum": "a86683efa9cf9356b51f08cb6d2599b7",
     "grade": true,
     "grade_id": "cell-48057487182fe951",
     "locked": true,
     "points": 5,
     "schema_version": 1,
     "solution": false
    }
   },
   "outputs": [],
   "source": [
    "# Hidden tests for efficiency"
   ]
  },
  {
   "cell_type": "code",
   "execution_count": 8,
   "metadata": {
    "deletable": false,
    "editable": false,
    "nbgrader": {
     "checksum": "281f0c66a2c9bfdf53c1995a852eea1f",
     "grade": true,
     "grade_id": "cell-1c9659f607b151a2",
     "locked": true,
     "points": 4,
     "schema_version": 1,
     "solution": false
    }
   },
   "outputs": [
    {
     "name": "stdout",
     "output_type": "stream",
     "text": [
      "Test gradient on one point\n",
      "Log Likelihood:\t -2.2959726720744777\n",
      "\n",
      "Grad_W_ij\t (784, 10) matrix\n",
      "Grad_W_ij[0,152:158]=\t [-0.04518971 -0.06758809 -0.07819784 -0.09077237 -0.07584012 -0.06365855]\n",
      "\n",
      "Grad_B_i shape\t (10,) vector\n",
      "Grad_B_i=\t [-0.10020327 -0.09977827 -0.1003198   0.89933657 -0.10037941 -0.10072863\n",
      " -0.09982729 -0.09928672 -0.09949324 -0.09931994]\n",
      "i in {0,...,9}; j in M\n"
     ]
    }
   ],
   "source": [
    "np.random.seed(123)\n",
    "# scalar, 10 X 768  matrix, 10 X 1 vector\n",
    "w = np.random.normal(size=(28*28,10), scale=0.001)\n",
    "# w = np.zeros((784,10))\n",
    "b = np.zeros((10,))\n",
    "\n",
    "# test gradients, train on 1 sample\n",
    "logpt, grad_w, grad_b = logreg_gradient(x_train[0:1,:], t_train[0:1], w, b)\n",
    "\n",
    "print(\"Test gradient on one point\")\n",
    "print(\"Log Likelihood:\\t\", logpt)\n",
    "print(\"\\nGrad_W_ij\\t\",grad_w.shape,\"matrix\")\n",
    "print(\"Grad_W_ij[0,152:158]=\\t\", grad_w[152:158,0])\n",
    "print(\"\\nGrad_B_i shape\\t\",grad_b.shape,\"vector\")\n",
    "print(\"Grad_B_i=\\t\", grad_b.T)\n",
    "print(\"i in {0,...,9}; j in M\")\n",
    "\n",
    "assert logpt.shape == (), logpt.shape\n",
    "assert grad_w.shape == (784, 10), grad_w.shape\n",
    "assert grad_b.shape == (10,), grad_b.shape\n",
    "\n",
    "\n"
   ]
  },
  {
   "cell_type": "code",
   "execution_count": 9,
   "metadata": {
    "deletable": false,
    "editable": false,
    "nbgrader": {
     "checksum": "2ec5c9e0bdfc89e9d8e34971863dd612",
     "grade": true,
     "grade_id": "cell-fd59c3a03a87ab83",
     "locked": true,
     "points": 4,
     "schema_version": 1,
     "solution": false
    }
   },
   "outputs": [
    {
     "name": "stdout",
     "output_type": "stream",
     "text": [
      "Finite difference error grad_w: 6.411502523780485e-07\n",
      "Finite difference error grad_b: 5.235117497507527e-08\n"
     ]
    }
   ],
   "source": [
    "# It's always good to check your gradient implementations with finite difference checking:\n",
    "# Scipy provides the check_grad function, which requires flat input variables.\n",
    "# So we write two helper functions that provide the gradient and output with 'flat' weights:\n",
    "from scipy.optimize import check_grad\n",
    "\n",
    "np.random.seed(123)\n",
    "# scalar, 10 X 768  matrix, 10 X 1 vector\n",
    "w = np.random.normal(size=(28*28,10), scale=0.001)\n",
    "# w = np.zeros((784,10))\n",
    "b = np.zeros((10,))\n",
    "\n",
    "def func(w):\n",
    "    logpt, grad_w, grad_b = logreg_gradient(x_train[0:1,:], t_train[0:1], w.reshape(784,10), b)\n",
    "    return logpt\n",
    "def grad(w):\n",
    "    logpt, grad_w, grad_b = logreg_gradient(x_train[0:1,:], t_train[0:1], w.reshape(784,10), b)\n",
    "    return grad_w.flatten()\n",
    "finite_diff_error = check_grad(func, grad, w.flatten())\n",
    "print('Finite difference error grad_w:', finite_diff_error)\n",
    "assert finite_diff_error < 1e-3, 'Your gradient computation for w seems off'\n",
    "\n",
    "def func(b):\n",
    "    logpt, grad_w, grad_b = logreg_gradient(x_train[0:1,:], t_train[0:1], w, b)\n",
    "    return logpt\n",
    "def grad(b):\n",
    "    logpt, grad_w, grad_b = logreg_gradient(x_train[0:1,:], t_train[0:1], w, b)\n",
    "    return grad_b.flatten()\n",
    "finite_diff_error = check_grad(func, grad, b)\n",
    "print('Finite difference error grad_b:', finite_diff_error)\n",
    "assert finite_diff_error < 1e-3, 'Your gradient computation for b seems off'\n",
    "\n"
   ]
  },
  {
   "cell_type": "code",
   "execution_count": 10,
   "metadata": {
    "deletable": false,
    "editable": false,
    "nbgrader": {
     "checksum": "4bb956f91b61cedbca19fe84c4b7fd44",
     "grade": true,
     "grade_id": "cell-91b8c5eb86f6a0f3",
     "locked": true,
     "points": 2,
     "schema_version": 1,
     "solution": false
    }
   },
   "outputs": [],
   "source": [
    "# DO NOT REMOVE THIS CELL!\n",
    "# It contains hidden tests\n"
   ]
  },
  {
   "cell_type": "markdown",
   "metadata": {
    "deletable": false,
    "editable": false,
    "nbgrader": {
     "checksum": "1f2bf7605bef859967bd38bb1c3c384c",
     "grade": false,
     "grade_id": "cell-bdce061b39aaacec",
     "locked": true,
     "schema_version": 1,
     "solution": false
    }
   },
   "source": [
    "\n",
    "### 1.1.3 Stochastic gradient descent (15 points)\n",
    "\n",
    "Write a function `sgd_iter(x_train, t_train, w, b)` that performs one iteration of stochastic gradient descent (SGD), and returns the new weights. It should go through the trainingset once in randomized order, call `logreg_gradient(x, t, w, b)` for each datapoint to get the gradients, and update the parameters **using a small learning rate of `1e-6`**. Note that in this case we're maximizing the likelihood function, so we should actually performing gradient ___ascent___... For more information about SGD, see Bishop 5.2.4 or an online source (i.e. https://en.wikipedia.org/wiki/Stochastic_gradient_descent)"
   ]
  },
  {
   "cell_type": "code",
   "execution_count": 11,
   "metadata": {
    "deletable": false,
    "nbgrader": {
     "checksum": "a1fd10093bd350a24e4a718bc0133738",
     "grade": true,
     "grade_id": "cell-86bf84658f1c5bc8",
     "locked": false,
     "points": 5,
     "schema_version": 1,
     "solution": true
    }
   },
   "outputs": [],
   "source": [
    "def sgd_iter(x_train, t_train, W, b):\n",
    "    learning_rate = 1e-4\n",
    "\n",
    "    # Size of trainingset\n",
    "    N = len(t_train)\n",
    "\n",
    "    logp_train = 1\n",
    "    # Go through trainingset in randomized order\n",
    "    for i in np.random.choice(N, N, replace=True):\n",
    "        # Get gradient\n",
    "        logp, dL_dw, dL_db = logreg_gradient(x_train[i:i+1, :], t_train[i:i+1], W, b)\n",
    "        logp_train += logp\n",
    "        # Update bias and weights (plus-sign due to maximizing)\n",
    "        b = b + learning_rate * dL_db\n",
    "        W = W + learning_rate * dL_dw\n",
    "\n",
    "    return logp_train, W, b"
   ]
  },
  {
   "cell_type": "code",
   "execution_count": 12,
   "metadata": {
    "deletable": false,
    "editable": false,
    "nbgrader": {
     "checksum": "f9dc9179ce6db8ed7eba9ea02ed82723",
     "grade": true,
     "grade_id": "cell-0929d502114babdb",
     "locked": true,
     "points": 5,
     "schema_version": 1,
     "solution": false
    }
   },
   "outputs": [],
   "source": [
    "# Hidden tests for efficiency"
   ]
  },
  {
   "cell_type": "code",
   "execution_count": 13,
   "metadata": {
    "deletable": false,
    "editable": false,
    "nbgrader": {
     "checksum": "0e5a417580d51fc1c3ef7519047eead4",
     "grade": true,
     "grade_id": "cell-2f7bbc264cc887a0",
     "locked": true,
     "points": 5,
     "schema_version": 1,
     "solution": false
    }
   },
   "outputs": [],
   "source": [
    "# Sanity check:\n",
    "np.random.seed(1243)\n",
    "w = np.zeros((28*28, 10))\n",
    "b = np.zeros(10)\n",
    "    \n",
    "logp_train, W, b = sgd_iter(x_train[:5], t_train[:5], w, b)\n",
    "\n",
    "\n"
   ]
  },
  {
   "cell_type": "markdown",
   "metadata": {
    "deletable": false,
    "editable": false,
    "nbgrader": {
     "checksum": "a60e2b48d4b187276ec9e8f8ef86a5f3",
     "grade": false,
     "grade_id": "cell-81634c804e1f93fc",
     "locked": true,
     "schema_version": 1,
     "solution": false
    }
   },
   "source": [
    "## 1.2. Train\n",
    "\n",
    "### 1.2.1 Train (12 points)\n",
    "Perform SGD on the training set. Plot (in one graph) the conditional log-probability of the training set and validation set after each iteration. (6 points)\n",
    "\n",
    "Instead of running SGD for a fixed number of steps, run it until convergence. Think of a reasonable criterion for determining convergence. As a reference: choose a criterion such that the algorithm terminates in less than 15 iterations over the training set. (2 points)\n",
    "\n",
    "Make sure your implementation (in particular, the output of the conditional log-probability of the training set and validation set) is independent of the size of the dataset. (2 points)"
   ]
  },
  {
   "cell_type": "code",
   "execution_count": 14,
   "metadata": {
    "deletable": false,
    "nbgrader": {
     "checksum": "221a9af93fcc6e5ab77fc26652c80a5f",
     "grade": true,
     "grade_id": "cell-20a347ba4db6e82c",
     "locked": false,
     "points": 10,
     "schema_version": 1,
     "solution": true
    }
   },
   "outputs": [
    {
     "name": "stdout",
     "output_type": "stream",
     "text": [
      "Iteration 1\n",
      "Iteration 2\n",
      "Iteration 3\n",
      "Iteration 4\n",
      "Iteration 5\n",
      "Iteration 6\n",
      "Iteration 7\n",
      "Iteration 8\n",
      "Iteration 9\n",
      "Iteration 10\n",
      "Iteration 11\n"
     ]
    },
    {
     "data": {
      "image/png": "[encoded data removed]",
      "text/plain": [
       "<Figure size 1440x720 with 1 Axes>"
      ]
     },
     "metadata": {
      "needs_background": "light"
     },
     "output_type": "display_data"
    }
   ],
   "source": [
    "def test_sgd(x_train, t_train, x_valid, t_valid, W, b):\n",
    "    eps = 1e-2\n",
    "    # Perform SGD\n",
    "    probs_train = []\n",
    "    probs_valid = []\n",
    "    i = 0\n",
    "    while True:\n",
    "        print(\"Iteration {}\".format(i + 1))\n",
    "        # Train network weights\n",
    "        logp_train, W, b = sgd_iter(x_train, t_train, W, b)\n",
    "\n",
    "        # Validate the trained weights using the validation set\n",
    "        logp_valid = 0\n",
    "        for n in range(len(t_valid)):\n",
    "            logp, _, _ = logreg_gradient(x_valid[n:n + 1, :], t_valid[n:n + 1], W, b)\n",
    "            logp_valid += logp\n",
    "\n",
    "        probs_train.append(logp_train / len(t_train))\n",
    "        probs_valid.append(logp_valid / len(t_valid))\n",
    "        i += 1\n",
    "        # Stop training early as soon as the validation log-prob is smaller\n",
    "        # than the training log-prob. Difference needs to greater than an epsilon because\n",
    "        # of random effects in SGD\n",
    "        if probs_train[-1] - probs_valid[-1] > eps:\n",
    "            break\n",
    "\n",
    "    # Plot log-probabilities\n",
    "    plt.figure(figsize=(20,10))\n",
    "    plt.plot(probs_train, label=\"Log-probability of training set\")\n",
    "    plt.plot(probs_valid, label=\"Log-probability of validation set\")\n",
    "    plt.legend()\n",
    "    plt.xlabel(\"Number of trainingsteps\")\n",
    "    plt.ylabel(\"Loss\")\n",
    "    plt.show()\n",
    "\n",
    "    return W, b\n",
    "    \n",
    "np.random.seed(1243)\n",
    "w = np.zeros((28*28, 10))\n",
    "b = np.zeros(10)\n",
    "w,b = test_sgd(x_train, t_train, x_valid, t_valid, w, b)"
   ]
  },
  {
   "cell_type": "code",
   "execution_count": 15,
   "metadata": {
    "deletable": false,
    "editable": false,
    "nbgrader": {
     "checksum": "0d46a6466493fa88818a210decebf40a",
     "grade": true,
     "grade_id": "cell-b290fe89d0aa4ffb",
     "locked": true,
     "points": 2,
     "schema_version": 1,
     "solution": false
    }
   },
   "outputs": [],
   "source": [
    "# Hidden tests for efficiency"
   ]
  },
  {
   "cell_type": "markdown",
   "metadata": {
    "deletable": false,
    "editable": false,
    "nbgrader": {
     "checksum": "a6d85bbd97cad35d524b65b23f64e75f",
     "grade": false,
     "grade_id": "cell-cf7f3da57d19493a",
     "locked": true,
     "schema_version": 1,
     "solution": false
    }
   },
   "source": [
    "### 1.2.2 Visualize weights (10 points)\n",
    "Visualize the resulting parameters $\\bW$ after a few iterations through the training set, by treating each column of $\\bW$ as an image. If you want, you can use or edit the `plot_digits(...)` above.\n"
   ]
  },
  {
   "cell_type": "code",
   "execution_count": 16,
   "metadata": {
    "deletable": false,
    "nbgrader": {
     "checksum": "4e554436500eebe1527a31039570a264",
     "grade": true,
     "grade_id": "cell-b10656f35fac065e",
     "locked": false,
     "points": 5,
     "schema_version": 1,
     "solution": true
    }
   },
   "outputs": [
    {
     "data": {
      "image/png": "[encoded data removed]",
      "text/plain": [
       "<Figure size 432x288 with 10 Axes>"
      ]
     },
     "metadata": {
      "needs_background": "light"
     },
     "output_type": "display_data"
    }
   ],
   "source": [
    "data = w.transpose()\n",
    "num_cols = 5\n",
    "targets = np.arange(0, 10)\n",
    "shape = (28, 28)\n",
    "\n",
    "# Modified plot_digits() function\n",
    "num_digits = data.shape[0]\n",
    "num_rows = int(num_digits / num_cols)\n",
    "plt.figure(figsize=(10,10))\n",
    "for i in range(num_digits):\n",
    "    plt.subplot(num_rows, num_cols, i + 1)\n",
    "    plt.imshow(data[i].reshape(shape), interpolation='none', cmap='Greys')\n",
    "    plt.title(int(targets[i]))\n",
    "    plt.axis('off')\n",
    "plt.tight_layout()\n",
    "plt.show()"
   ]
  },
  {
   "cell_type": "markdown",
   "metadata": {
    "deletable": false,
    "nbgrader": {
     "checksum": "de187afcf5ae1e34b80bc10610760e7a",
     "grade": true,
     "grade_id": "cell-eb131c8b7303da38",
     "locked": false,
     "points": 5,
     "schema_version": 1,
     "solution": true
    }
   },
   "source": [
    "**Describe in less than 100 words why these weights minimize the loss**\n",
    "\n",
    "In the plots, it can be seen that the outer boundary of the image matrix is \"grayed out\" in a circular shape. A gray color means that the corresponding weight values are close to zero. In this area, no meaningfull information is available, because of the digit's central position. The weights therefore remain close to zero.\n",
    "\n",
    "The inner part of the weight image shows a blurry representation of the corresponding digit. The blurriness refelects the approximation of the examples in the training set. "
   ]
  },
  {
   "cell_type": "markdown",
   "metadata": {
    "deletable": false,
    "editable": false,
    "nbgrader": {
     "checksum": "7a6a97ce145be9d58d5cf190e49da491",
     "grade": false,
     "grade_id": "cell-f36d974d9ef34c97",
     "locked": true,
     "schema_version": 1,
     "solution": false
    }
   },
   "source": [
    "### 1.2.3. Visualize the 8 hardest and 8 easiest digits (10 points)\n",
    "Visualize the 8 digits in the validation set with the highest probability of the true class label under the model.\n",
    "Also plot the 8 digits that were assigned the lowest probability.\n"
   ]
  },
  {
   "cell_type": "code",
   "execution_count": 17,
   "metadata": {
    "deletable": false,
    "nbgrader": {
     "checksum": "4f212e606b9d9d7fd4ae403d643dacfd",
     "grade": true,
     "grade_id": "cell-3802d61680deeff5",
     "locked": false,
     "points": 5,
     "schema_version": 1,
     "solution": true
    }
   },
   "outputs": [
    {
     "data": {
      "image/png": "[encoded data removed]",
      "text/plain": [
       "<Figure size 432x288 with 8 Axes>"
      ]
     },
     "metadata": {
      "needs_background": "light"
     },
     "output_type": "display_data"
    },
    {
     "data": {
      "image/png": "[encoded data removed]",
      "text/plain": [
       "<Figure size 432x288 with 8 Axes>"
      ]
     },
     "metadata": {
      "needs_background": "light"
     },
     "output_type": "display_data"
    }
   ],
   "source": [
    "def plot_digits_mod(data, num_cols, targets, title):\n",
    "    shape = (28, 28)\n",
    "    num_digits = data.shape[0]\n",
    "    num_rows = int(num_digits / num_cols)\n",
    "    for i in range(num_digits):\n",
    "        plt.subplot(num_rows, num_cols, i + 1)\n",
    "        plt.imshow(data[i].reshape(shape), interpolation='none', cmap='Greys')\n",
    "        plt.title(int(targets[i]))\n",
    "        plt.axis('off')\n",
    "    plt.tight_layout()\n",
    "    plt.suptitle(title)\n",
    "    plt.show()\n",
    "\n",
    "# Loop over validation set\n",
    "probs = []\n",
    "for n in range(len(t_valid)):\n",
    "    logp, _, _ = logreg_gradient(x_valid[n:n + 1, :], t_valid[n:n + 1], w, b)\n",
    "    probs.append(float(logp))\n",
    "\n",
    "ind_max8 = np.asarray(probs).argsort()[-8:][::-1]\n",
    "ind_min8 = np.asarray(probs).argsort()[:8]\n",
    "\n",
    "# Plot the 8 easiest digits\n",
    "plot_digits_mod(x_valid[ind_max8, :], 4, t_valid[ind_max8], \"The 8 easiest digits\")\n",
    "# Plot the 8 hardest digits\n",
    "plot_digits_mod(x_valid[ind_min8, :], 4, t_valid[ind_min8], \"The 8 hardest digits\")"
   ]
  },
  {
   "cell_type": "markdown",
   "metadata": {
    "deletable": false,
    "nbgrader": {
     "checksum": "642d43cd6542e6cf49779799becbd435",
     "grade": true,
     "grade_id": "cell-6564a51fdda06d95",
     "locked": false,
     "points": 5,
     "schema_version": 1,
     "solution": true
    }
   },
   "source": [
    "Ask yourself if these results make sense. Explain in no more then two sentences what it means that a digit is hard to classify.\n",
    "\n",
    "- A hard-to-classify digit is easily confused with a different, similar looking digit. The plot above illustrates this, for instance does the 4 look like a 0, the 5 like a 2 and the 2 like a 6."
   ]
  },
  {
   "cell_type": "markdown",
   "metadata": {
    "deletable": false,
    "editable": false,
    "nbgrader": {
     "checksum": "21418c6f8f5a8b5bd54c2b6fd655ec90",
     "grade": false,
     "grade_id": "cell-2c525344c99e5b26",
     "locked": true,
     "schema_version": 1,
     "solution": false
    }
   },
   "source": [
    "# Part 2. Multilayer perceptron\n",
    "\n",
    "\n",
    "You discover that the predictions by the logistic regression classifier are not good enough for your application: the model is too simple. You want to increase the accuracy of your predictions by using a better model. For this purpose, you're going to use a multilayer perceptron (MLP), a simple kind of neural network. The perceptron will have a single hidden layer $\\bh$ with $L$ elements. The parameters of the model are $\\bV$ (connections between input $\\bx$ and hidden layer $\\bh$), $\\ba$ (the biases/intercepts of $\\bh$), $\\bW$ (connections between $\\bh$ and $\\log q$) and $\\bb$ (the biases/intercepts of $\\log q$).\n",
    "\n",
    "The conditional probability of the class label $j$ is given by:\n",
    "\n",
    "$\\log p(t = j \\;|\\; \\bx, \\bb, \\bW) = \\log q_j - \\log Z$\n",
    "\n",
    "where $q_j$ are again the unnormalized probabilities per class, and $Z = \\sum_j q_j$ is again the probability normalizing factor. Each $q_j$ is computed using:\n",
    "\n",
    "$\\log q_j = \\bw_j^T \\bh + b_j$\n",
    "\n",
    "where $\\bh$ is a $L \\times 1$ vector with the hidden layer activations (of a hidden layer with size $L$), and $\\bw_j$ is the $j$-th column of $\\bW$ (a $L \\times 10$ matrix). Each element of the hidden layer is computed from the input vector $\\bx$ using:\n",
    "\n",
    "$h_j = \\sigma(\\bv_j^T \\bx + a_j)$\n",
    "\n",
    "where $\\bv_j$ is the $j$-th column of $\\bV$ (a $784 \\times L$ matrix), $a_j$ is the $j$-th element of $\\ba$, and $\\sigma(.)$ is the so-called sigmoid activation function, defined by:\n",
    "\n",
    "$\\sigma(x) = \\frac{1}{1 + \\exp(-x)}$\n",
    "\n",
    "Note that this model is almost equal to the multiclass logistic regression model, but with an extra 'hidden layer' $\\bh$. The activations of this hidden layer can be viewed as features computed from the input, where the feature transformation ($\\bV$ and $\\ba$) is learned.\n",
    "\n",
    "## 2.1 Derive gradient equations (20 points)\n",
    "\n",
    "State (shortly) why $\\nabla_{\\bb} \\mathcal{L}^{(n)}$ is equal to the earlier (multiclass logistic regression) case, and why $\\nabla_{\\bw_j} \\mathcal{L}^{(n)}$ is almost equal to the earlier case.\n",
    "\n",
    "Like in multiclass logistic regression, you should use intermediate variables $\\mathbf{\\delta}_j^q$. In addition, you should use intermediate variables $\\mathbf{\\delta}_j^h = \\frac{\\partial \\mathcal{L}^{(n)}}{\\partial h_j}$.\n",
    "\n",
    "Given an input image, roughly the following intermediate variables should be computed:\n",
    "\n",
    "$\n",
    "\\log \\bq \\rightarrow Z \\rightarrow \\log \\bp \\rightarrow \\mathbf{\\delta}^q \\rightarrow \\mathbf{\\delta}^h\n",
    "$\n",
    "\n",
    "where $\\mathbf{\\delta}_j^h = \\frac{\\partial \\mathcal{L}^{(n)}}{\\partial \\bh_j}$.\n",
    "\n",
    "Give the equations for computing $\\mathbf{\\delta}^h$, and for computing the derivatives of $\\mathcal{L}^{(n)}$ w.r.t. $\\bW$, $\\bb$, $\\bV$ and $\\ba$. \n",
    "\n",
    "You can use the convenient fact that $\\frac{\\partial}{\\partial x} \\sigma(x) = \\sigma(x) (1 - \\sigma(x))$."
   ]
  },
  {
   "cell_type": "markdown",
   "metadata": {
    "deletable": false,
    "nbgrader": {
     "checksum": "bb7ce29f01484f94a6357784ddaf6412",
     "grade": true,
     "grade_id": "cell-48f48bb8ec75cc3c",
     "locked": false,
     "points": 20,
     "schema_version": 1,
     "solution": true
    }
   },
   "source": [
    "$\\delta^q_j = - \\frac{exp(log q_j)}{\\sum_i exp(log q_i)}$\n",
    "\n",
    "$\\mathbf{\\delta}_j^h = \\frac{\\partial \\mathcal{L}^{(n)}}{\\partial \\bh_j} = \\frac{\\partial \\mathcal{L}^{(n)}}{\\partial log q}\\frac{\\partial log q}{\\partial h} = \\delta_j^q W^T$\n",
    "\n",
    "$\\nabla_{\\bb} \\mathcal{L}^{(n)} = \\delta^q_j$\n",
    "\n",
    "$\\nabla_{W} \\mathcal{L}^{(n)} = \\delta^q h$\n",
    "\n",
    "$\\nabla_{a} \\mathcal{L}^{(n)} = \\delta^h_j$\n",
    "\n",
    "$\\nabla_{V} \\mathcal{L}^{(n)} = \\delta^hx$"
   ]
  },
  {
   "cell_type": "markdown",
   "metadata": {
    "deletable": false,
    "editable": false,
    "nbgrader": {
     "checksum": "cfcfec5959134f7f3fca2ba585a94fba",
     "grade": false,
     "grade_id": "cell-0bff945081e993fc",
     "locked": true,
     "schema_version": 1,
     "solution": false
    }
   },
   "source": [
    "## 2.2 MAP optimization (10 points)\n",
    "\n",
    "You derived equations for finding the _maximum likelihood_ solution of the parameters. Explain, in a few sentences, how you could extend this approach so that it optimizes towards a _maximum a posteriori_ (MAP) solution of the parameters, with a Gaussian prior on the parameters. "
   ]
  },
  {
   "cell_type": "markdown",
   "metadata": {
    "deletable": false,
    "nbgrader": {
     "checksum": "49d6376929b1cdf60a9ca9282512f1b4",
     "grade": true,
     "grade_id": "cell-1daef2744c010b73",
     "locked": false,
     "points": 10,
     "schema_version": 1,
     "solution": true
    }
   },
   "source": [
    "To create a MAP solution we need to have a Gaussian prior $p(w|\\alpha) = \\mathcal{N}(w|0, \\alpha^{-1} \\bI)$. We will need to set an $\\alpha$ for this to calculate the MAP."
   ]
  },
  {
   "cell_type": "markdown",
   "metadata": {
    "deletable": false,
    "editable": false,
    "nbgrader": {
     "checksum": "c7e27334475d494b296af3afdf6bfcb4",
     "grade": false,
     "grade_id": "cell-2e56d8a567e2fb08",
     "locked": true,
     "schema_version": 1,
     "solution": false
    }
   },
   "source": [
    "## 2.3. Implement and train a MLP (15 points)\n",
    "\n",
    "Implement an MLP model with a single hidden layer of **20 neurons**. \n",
    "Train the model for **10 epochs**.\n",
    "Test your implementation for learning rates of 1e-2, 1e-3 and 1e-4 and plot (in one graph) the conditional log-probability of the trainingset and validation set. \n",
    "\n",
    "For the best model plot the weights of the first layer for in epoch 0,4 and 9. \n",
    "\n",
    "\n",
    "- 10 points: Working MLP that learns with plots\n",
    "- +5 points: Fast, numerically stable, vectorized implementation"
   ]
  },
  {
   "cell_type": "code",
   "execution_count": 18,
   "metadata": {
    "deletable": false,
    "nbgrader": {
     "checksum": "bca5a8a86e2d27a1c43d84fd9105421d",
     "grade": true,
     "grade_id": "cell-5d1924ace9e216e2",
     "locked": false,
     "points": 0,
     "schema_version": 1,
     "solution": true
    }
   },
   "outputs": [],
   "source": [
    "from scipy.special import logsumexp\n",
    "from scipy.special import expit\n",
    "\n",
    "# Sigmoid activation for the hidden layer\n",
    "def sigmoid(x):\n",
    "    return expit(x)\n",
    "\n",
    "# Makes output vector t a one-hot vector\n",
    "def make_one_hot(x):\n",
    "    x = x.astype(int)\n",
    "    y = np.zeros((x.size, x.max()+1))\n",
    "    y[np.arange(x.size), x] = 1\n",
    "    return y.astype(np.int)\n",
    "\n",
    "# Perform the forward pass of a neural network\n",
    "# Predicting an output given an input and calculating the loss\n",
    "def logreg_gradient_mlp(x, V, a, W, b):\n",
    "    z1 = np.add(np.dot(x, V), a)\n",
    "    h = sigmoid(z1)\n",
    "    \n",
    "    log_q = np.matmul(h, W) + b\n",
    "    \n",
    "    assert log_q.shape == (1,10), log_q.shape\n",
    "    \n",
    "    log_Z = logsumexp(log_q)\n",
    "    log_p = log_q - log_Z\n",
    "    \n",
    "    return h, log_q, log_p, log_Z\n",
    "\n",
    "# Update the weights given a learning rate and the gradient\n",
    "def update_weight(x, grad, lr):\n",
    "    y = lr * grad\n",
    "    return x + y\n",
    "\n",
    "# Calculate the gradients of the weights and biases\n",
    "def calculate_grad(x, t, V, a, W, b):\n",
    "       \n",
    "    h, log_q, log_p, log_Z = logreg_gradient_mlp(x, V, a, W, b)\n",
    "    \n",
    "    delta_q = t - np.exp(log_q) / np.exp(log_Z).sum()\n",
    "    assert delta_q.shape == b.shape\n",
    "    \n",
    "    delta_h = np.dot(delta_q, W.transpose())\n",
    "    assert delta_h.shape == h.shape\n",
    "    \n",
    "    \n",
    "    dW = np.matmul(h.transpose(), delta_q)\n",
    "    assert dW.shape == W.shape\n",
    "    \n",
    "    db = delta_q\n",
    "    \n",
    "    dV = np.matmul(x.transpose(), delta_h)\n",
    "    assert dV.shape == V.shape\n",
    "    \n",
    "    da = delta_h * h * (1-h)\n",
    "    \n",
    "    return log_p[:,t.astype(np.bool)].squeeze(), dV, da.squeeze(), dW, db.squeeze()\n",
    "\n",
    "\n",
    "\n",
    "# Perform the backward pass of training a neural network\n",
    "# Updating all the weights and biases\n",
    "def backwards_pass(x, t, V, a, W, b, lr):\n",
    "    log_p, dV, da, dW, db = calculate_grad(x, t, V, a, W, b)\n",
    "    \n",
    "    V_new = update_weight(V, dV, lr)\n",
    "    a_new = update_weight(a, da, lr)\n",
    "    W_new = update_weight(W, dW, lr)\n",
    "    b_new = update_weight(b, db, lr)\n",
    "    \n",
    "    assert V_new.shape == (28*28, 20), V_new.shape\n",
    "    assert a_new.shape == (1, 20), a_new.shape\n",
    "    assert W_new.shape == (20, 10), W_new.shape\n",
    "    assert b_new.shape == (1, 10), b_new.shape\n",
    "\n",
    "    return log_p, V_new, a_new, W_new, b_new\n",
    "\n",
    "# Main MLP function\n",
    "def mlp(x_train, t_train, x_valid, t_valid, V, a, W, b, learning_rate=1e-2):\n",
    "\n",
    "    num_epochs = 10\n",
    "    N = len(t_train)\n",
    "    \n",
    "    t = make_one_hot(t_train)\n",
    "    t_valid = make_one_hot(t_valid)\n",
    "    \n",
    "    loss_train = np.empty((num_epochs, 1))\n",
    "    loss_valid = np.empty((num_epochs, 1))\n",
    "    \n",
    "    print(\"Training for a learning rate of: \" + str(learning_rate))\n",
    "    \n",
    "    for i in range(0, num_epochs):\n",
    "        print(\"Iteration \" + str(i))\n",
    "        loss_train_int = np.empty((len(t_train),1))\n",
    "        loss_valid_int = np.empty((len(t_valid),1))\n",
    "        \n",
    "        # Train on trainset\n",
    "        for j in np.random.choice(N, N, replace=True):\n",
    "            \n",
    "            x = np.reshape(x_train[j], (len(x_train[j]), 1)).transpose()\n",
    "            \n",
    "            loss, V, a, W, b = backwards_pass(x, t[j], V, a, W, b, learning_rate)\n",
    "            loss_train_int[j] = loss\n",
    "            \n",
    "        # Validate on validationset    \n",
    "        for k in range(len(t_valid)):\n",
    "            \n",
    "            x = np.reshape(x_valid[k], (len(x_valid[k]), 1)).transpose()\n",
    "            \n",
    "            _, _, log_p, _ = logreg_gradient_mlp(x, V, a, W, b)\n",
    "            loss_valid_int[k] = log_p[:, t_valid[k].astype(np.bool)].squeeze()\n",
    "\n",
    "            \n",
    "        #Calculate total loss\n",
    "        loss_train[i] = np.mean(loss_train_int)\n",
    "        loss_valid[i] = np.mean(loss_valid_int)\n",
    "    \n",
    "    print(\"Done\")\n",
    "    return loss_train, loss_valid, V"
   ]
  },
  {
   "cell_type": "code",
   "execution_count": 19,
   "metadata": {
    "deletable": false,
    "editable": false,
    "nbgrader": {
     "checksum": "c73a8145fa846d154551bd6d85908790",
     "grade": true,
     "grade_id": "cell-94b75f65d3038a67",
     "locked": true,
     "points": 5,
     "schema_version": 1,
     "solution": false
    }
   },
   "outputs": [],
   "source": [
    "# Hidden tests for efficiency"
   ]
  },
  {
   "cell_type": "code",
   "execution_count": 20,
   "metadata": {
    "deletable": false,
    "nbgrader": {
     "checksum": "f3be36f9cf960203b49603b3719b8a4d",
     "grade": true,
     "grade_id": "cell-e9b2125a5ea8a22c",
     "locked": false,
     "points": 10,
     "schema_version": 1,
     "solution": true
    }
   },
   "outputs": [
    {
     "name": "stdout",
     "output_type": "stream",
     "text": [
      "Training for a learning rate of: 0.01\n",
      "Iteration 0\n",
      "Iteration 1\n",
      "Iteration 2\n",
      "Iteration 3\n",
      "Iteration 4\n",
      "Iteration 5\n",
      "Iteration 6\n",
      "Iteration 7\n",
      "Iteration 8\n",
      "Iteration 9\n",
      "Done\n",
      "Training for a learning rate of: 0.001\n",
      "Iteration 0\n",
      "Iteration 1\n",
      "Iteration 2\n",
      "Iteration 3\n",
      "Iteration 4\n",
      "Iteration 5\n",
      "Iteration 6\n",
      "Iteration 7\n",
      "Iteration 8\n",
      "Iteration 9\n",
      "Done\n",
      "Training for a learning rate of: 0.0001\n",
      "Iteration 0\n",
      "Iteration 1\n",
      "Iteration 2\n",
      "Iteration 3\n",
      "Iteration 4\n",
      "Iteration 5\n",
      "Iteration 6\n",
      "Iteration 7\n",
      "Iteration 8\n",
      "Iteration 9\n",
      "Done\n"
     ]
    }
   ],
   "source": [
    "# learning rate = 1e-2\n",
    "# hidden layer = 20x1 - Sigmoid activation\n",
    "# Output layer = 10x1 - Softmax activation\n",
    "\n",
    "# train model for 10 epochs \n",
    "\n",
    "# input = NxM where N is amount of datapoints and M = 28*28\n",
    "# bias has to be pressent\n",
    "# W1 = MxM\n",
    "# W2 = \n",
    "\n",
    "## forward pass\n",
    "# input x * W1 -> hidden layer\n",
    "# hidden_layer * W2 -> Output\n",
    "\n",
    "   \n",
    "np.random.seed(1243)\n",
    "M = 28*28\n",
    "# hidden layer size 20x1\n",
    "N = 20\n",
    "# output size 10x1\n",
    "O = 10\n",
    "input_size = x_train.shape[0]\n",
    "\n",
    "# x_train = (NxM)\n",
    "V = np.random.normal(size=(M,N), scale=0.001)\n",
    "W = np.random.normal(size=(N,O), scale=0.001)\n",
    "a = np.zeros(shape=(1, N))\n",
    "b = np.zeros(shape=(1, O))\n",
    "\n",
    "loss_train_2, loss_valid_2, V_1 = mlp(x_train, t_train, x_valid, t_valid, V, a, W, b, learning_rate=1e-2)\n",
    "loss_train_3, loss_valid_3, V_2 = mlp(x_train, t_train, x_valid, t_valid, V, a, W, b, learning_rate=1e-3)\n",
    "loss_train_4, loss_valid_4, V_3 = mlp(x_train, t_train, x_valid, t_valid, V, a, W, b, learning_rate=1e-4)\n",
    "\n"
   ]
  },
  {
   "cell_type": "code",
   "execution_count": 21,
   "metadata": {
    "deletable": false,
    "nbgrader": {
     "checksum": "9e9550447ee575c602a21489ce8534bb",
     "grade": true,
     "grade_id": "cell-b90dafbb9f41c1ed",
     "locked": false,
     "points": 0,
     "schema_version": 1,
     "solution": true
    }
   },
   "outputs": [
    {
     "data": {
      "image/png": "[encoded data removed]",
      "text/plain": [
       "<Figure size 1440x720 with 1 Axes>"
      ]
     },
     "metadata": {
      "needs_background": "light"
     },
     "output_type": "display_data"
    }
   ],
   "source": [
    "# plot the train and validation logp for all three learning rates in one figure\n",
    "num_epochs = 10\n",
    "\n",
    "plt.figure(figsize=(20,10))\n",
    "\n",
    "plt.plot(range(0,num_epochs), loss_train_2, linestyle=\"--\", label=\"loss trainset, lr=1e-2\")\n",
    "plt.plot(range(0,num_epochs),loss_valid_2, linestyle=\"--\", label=\"loss validationset, lr=1e-2\")\n",
    "plt.plot(range(0,num_epochs), loss_train_3, linestyle=\"-\", label=\"loss trainset, lr=1e-3\")\n",
    "plt.plot(range(0,num_epochs), loss_valid_3, linestyle=\"-\", label=\"loss validationset, lr=1e-2\")\n",
    "plt.plot(range(0,num_epochs),loss_train_4, linestyle=\"-.\", label=\"loss trainset, lr=1e-4\")\n",
    "plt.plot(range(0,num_epochs), loss_valid_4, linestyle=\"-.\", label=\"loss validationset, lr=1e-2\")\n",
    "plt.xlabel(\"Number of trainings epochs\")\n",
    "plt.ylabel(\"Loss\")\n",
    "plt.legend()\n",
    "\n",
    "plt.show()\n",
    "    "
   ]
  },
  {
   "cell_type": "markdown",
   "metadata": {
    "deletable": false,
    "editable": false,
    "nbgrader": {
     "checksum": "046552f90febc455e5c56d6bb68b8849",
     "grade": false,
     "grade_id": "cell-5b926040b792b57a",
     "locked": true,
     "schema_version": 1,
     "solution": false
    }
   },
   "source": [
    "### 2.3.1. Explain the learning curves (5 points)\n",
    "In less than 80 words, explain the observed behaviour for the different learning rates."
   ]
  },
  {
   "cell_type": "markdown",
   "metadata": {
    "deletable": false,
    "nbgrader": {
     "checksum": "ca72ec2f983a4d7ca6083fffbf5f6063",
     "grade": true,
     "grade_id": "cell-8858cbe0e4dd02c7",
     "locked": false,
     "points": 5,
     "schema_version": 1,
     "solution": true
    }
   },
   "source": [
    "We can see that a learning rate of 1e-2 is the best and fastest learning rate in this example. For the 1e-3 learning rate we get a slightly worse loss and for the 1e-4 the loss is not only the worst but it also takes the longest to train."
   ]
  },
  {
   "cell_type": "markdown",
   "metadata": {
    "deletable": false,
    "editable": false,
    "nbgrader": {
     "checksum": "a03d026530585bc63f3cad6534b75f1b",
     "grade": false,
     "grade_id": "cell-6ae8cb5a4c246b97",
     "locked": true,
     "schema_version": 1,
     "solution": false
    }
   },
   "source": [
    "### 2.3.2. Explain the weights (5 points)\n",
    "In less than 80 words, explain how and why the weights of the hidden layer of the MLP differ from the logistic regression model, and relate this to the stronger performance of the MLP."
   ]
  },
  {
   "cell_type": "code",
   "execution_count": 22,
   "metadata": {
    "deletable": false,
    "nbgrader": {
     "checksum": "8f24e3bf890299503af4561915a23915",
     "grade": true,
     "grade_id": "cell-69b3830258566c6d",
     "locked": false,
     "points": 0,
     "schema_version": 1,
     "solution": true
    }
   },
   "outputs": [
    {
     "data": {
      "image/png": "[encoded data removed]",
      "text/plain": [
       "<Figure size 720x720 with 20 Axes>"
      ]
     },
     "metadata": {
      "needs_background": "light"
     },
     "output_type": "display_data"
    }
   ],
   "source": [
    "data = V_1.transpose()\n",
    "num_cols = 5\n",
    "targets = np.arange(0, 20)\n",
    "shape = (28, 28)\n",
    "\n",
    "# Modified plot_digits() function\n",
    "num_digits = data.shape[0]\n",
    "num_rows = int(num_digits / num_cols)\n",
    "plt.figure(figsize=(10,10))\n",
    "for i in range(num_digits):\n",
    "    plt.subplot(num_rows, num_cols, i + 1)\n",
    "    plt.imshow(data[i].reshape(shape), interpolation='none', cmap='Greys')\n",
    "    plt.title(int(targets[i]))\n",
    "    plt.axis('off')\n",
    "\n",
    "plt.tight_layout()\n",
    "plt.show()"
   ]
  },
  {
   "cell_type": "markdown",
   "metadata": {
    "deletable": false,
    "nbgrader": {
     "checksum": "7f6cbf48a398f8722f4d403b957b2075",
     "grade": true,
     "grade_id": "cell-c4fdc27b1aab6828",
     "locked": false,
     "points": 5,
     "schema_version": 1,
     "solution": true
    }
   },
   "source": [
    "Logistic regression can only create linear boundaries. Using a hidden layer we can combine the linear regression (which is essentialy the  weights between the hidden layer and the output) and non-linear transformation in the hidden layer to create a more complex model that performs better. Where a logistic regression algorithm tries to model the whole class with one weight matrix an MLP can model regions of interest with different weight matrices."
   ]
  },
  {
   "cell_type": "markdown",
   "metadata": {
    "deletable": false,
    "editable": false,
    "nbgrader": {
     "checksum": "dd6a4522e0601e36fd37c9586a76236e",
     "grade": false,
     "grade_id": "cell-d10e996556dd40e5",
     "locked": true,
     "schema_version": 1,
     "solution": false
    }
   },
   "source": [
    "### 2.3.2. Different activation functions (10 points)\n",
    "In the task above we use a sigmoid as an activation function.\n",
    "Two other popular choices for activation functions are tanh and the rectified linear unit (ReLU). The ReLU is defined as:\n",
    "\n",
    "$$f(x) = \\max(0.,x)$$\n",
    "\n",
    "You already derived the derivative of the softmax function above. Here, write down the derivative for both the tanh and the ReLU function. Furthermore, for all three, plot the function and its derivative in a range $x\\in[-3,3]$"
   ]
  },
  {
   "cell_type": "markdown",
   "metadata": {
    "deletable": false,
    "nbgrader": {
     "checksum": "d67f15590158b453265dcd76b39e6631",
     "grade": true,
     "grade_id": "cell-e049422b1f9ce35e",
     "locked": false,
     "points": 0,
     "schema_version": 1,
     "solution": true
    }
   },
   "source": [
    "Write down the derivative of ReLU and tanh w.r.t. their respective argument:\n",
    "\n",
    "$\\frac{\\partial ReLU(x)}{\\partial x} = \\frac{\\partial max(0, x)}{\\partial x} = $ 1 if x > 0, 0 otherwise\n",
    "\n",
    "$\\frac{\\partial tanh(x)}{\\partial x} = \\frac{\\partial}{\\partial x} \\frac{sinh(x)}{cosh(x)} = \\frac{cosh^2(x)-sinh^2(x)}{cosh^2(x)} = 1 - \\frac{sinh^2(x)}{cosh^2(x)} = 1 - tanh^2(x)$\n",
    "\n",
    "Name two properties that you would like your activation function to have (one sentence each). Why are they important?\n",
    "\n",
    "- It has to map input to a certain range ((-1, 1) or (0, 1) for example). This is usefull to make sure values will not grow out of control.\n",
    "\n",
    "- The activation function has to be non-linear. With this we can create more complex models instead of just using linear only operations, which essentialy would make it just a big multiplication of matrices.\n"
   ]
  },
  {
   "cell_type": "code",
   "execution_count": 23,
   "metadata": {
    "deletable": false,
    "nbgrader": {
     "checksum": "9121f55cf725651c75e033f7ca13ee92",
     "grade": true,
     "grade_id": "cell-ecd7fbb4f1ece014",
     "locked": false,
     "points": 5,
     "schema_version": 1,
     "solution": true
    }
   },
   "outputs": [
    {
     "data": {
      "image/png": "[encoded data removed]",
      "text/plain": [
       "<Figure size 1296x216 with 3 Axes>"
      ]
     },
     "metadata": {
      "needs_background": "light"
     },
     "output_type": "display_data"
    }
   ],
   "source": [
    "def relu(x):\n",
    "    return np.maximum(0,x)\n",
    "\n",
    "def der_relu(x):\n",
    "    return 1. * (x > 0)\n",
    "\n",
    "def sigmoid(x):\n",
    "    return 1/(1+np.exp(-x))\n",
    "\n",
    "def der_sigmoid(x):\n",
    "    return sigmoid(x) * (1 - sigmoid(x))\n",
    "\n",
    "def tanh(x):\n",
    "    return np.tanh(x)\n",
    "\n",
    "def der_tanh(x):\n",
    "    return 1 - tanh(x)**2\n",
    "    \n",
    "\n",
    "# plot the function and the derivative for the activations sigmoid, tanh and ReLU.\n",
    "x = np.linspace(-3, 3, 50)\n",
    "\n",
    "plt.figure(1, figsize=(18, 3))\n",
    "\n",
    "plt.subplot(1,3,1)\n",
    "plt.plot(x, sigmoid(x), label = 'sigmoid')\n",
    "plt.plot(x, der_sigmoid(x), label='derivative of sigmoid')\n",
    "plt.xlabel(\"x\")\n",
    "plt.ylabel(\"f(x)\")\n",
    "plt.legend()\n",
    "\n",
    "plt.subplot(1,3,2)\n",
    "plt.plot(x, tanh(x), label='tanh')\n",
    "plt.plot(x, der_tanh(x), label='derivative of tanh')\n",
    "plt.xlabel(\"x\")\n",
    "plt.ylabel(\"f(x)\")\n",
    "plt.legend()\n",
    "\n",
    "plt.subplot(1,3,3)\n",
    "plt.plot(x, relu(x), label='ReLu')\n",
    "plt.plot(x, der_relu(x), label='derivative of ReLu')\n",
    "plt.xlabel(\"x\")\n",
    "plt.ylabel(\"f(x)\")\n",
    "plt.legend()\n",
    "\n",
    "plt.show()\n",
    "\n",
    "\n",
    "\n"
   ]
  },
  {
   "cell_type": "markdown",
   "metadata": {
    "deletable": false,
    "nbgrader": {
     "checksum": "928719563cd5a64fe7fbbe05361a4f9e",
     "grade": true,
     "grade_id": "cell-b80eb6b6816d09f7",
     "locked": false,
     "points": 5,
     "schema_version": 1,
     "solution": true
    }
   },
   "source": [
    "Now that you plotted the activations and derivatives, which activation do you think is the best? Why would you choose this activation function? For your answer consider what you named as essential properties for an activation function above. Keep your answer short at no more then 3 sentences.\n",
    "\n",
    "The ReLu seems to be the easiest to implement and still obeyes all the criteria stated above.\n",
    "Literature also suggests ReLu is the prefered activation function for hidden layers."
   ]
  },
  {
   "cell_type": "code",
   "execution_count": 1,
   "metadata": {
    "deletable": false,
    "editable": false,
    "nbgrader": {
     "checksum": "c45d88c24c3a46a7b1ce3d417bf56c96",
     "grade": false,
     "grade_id": "cell-995c4d580f198861",
     "locked": true,
     "schema_version": 1,
     "solution": false
    }
   },
   "outputs": [
    {
     "ename": "NameError",
     "evalue": "name 'time' is not defined",
     "output_type": "error",
     "traceback": [
      "\u001b[0;31m---------------------------------------------------------------------------\u001b[0m",
      "\u001b[0;31mNameError\u001b[0m                                 Traceback (most recent call last)",
      "\u001b[0;32m<ipython-input-1-b6ed385bcaa3>\u001b[0m in \u001b[0;36m<module>\u001b[0;34m\u001b[0m\n\u001b[0;32m----> 1\u001b[0;31m \u001b[0mprint\u001b[0m\u001b[0;34m(\u001b[0m\u001b[0;34m'Notebook ran in {:2.3} minutes.'\u001b[0m\u001b[0;34m.\u001b[0m\u001b[0mformat\u001b[0m\u001b[0;34m(\u001b[0m\u001b[0;34m(\u001b[0m\u001b[0mtime\u001b[0m\u001b[0;34m.\u001b[0m\u001b[0mtime\u001b[0m\u001b[0;34m(\u001b[0m\u001b[0;34m)\u001b[0m\u001b[0;34m-\u001b[0m\u001b[0mstart\u001b[0m\u001b[0;34m)\u001b[0m\u001b[0;34m/\u001b[0m\u001b[0;36m60\u001b[0m\u001b[0;34m)\u001b[0m\u001b[0;34m)\u001b[0m\u001b[0;34m\u001b[0m\u001b[0m\n\u001b[0m",
      "\u001b[0;31mNameError\u001b[0m: name 'time' is not defined"
     ]
    }
   ],
   "source": [
    "print('Notebook ran in {:2.3} minutes.'.format((time.time()-start)/60))"
   ]
  }
 ],
 "metadata": {
  "kernelspec": {
   "display_name": "Python [default]",
   "language": "python",
   "name": "python3"
  },
  "language_info": {
   "codemirror_mode": {
    "name": "ipython",
    "version": 3
   },
   "file_extension": ".py",
   "mimetype": "text/x-python",
   "name": "python",
   "nbconvert_exporter": "python",
   "pygments_lexer": "ipython3",
   "version": "3.6.2"
  }
 },
 "nbformat": 4,
 "nbformat_minor": 1
}
